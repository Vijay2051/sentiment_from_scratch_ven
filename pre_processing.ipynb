{
 "metadata": {
  "language_info": {
   "codemirror_mode": {
    "name": "ipython",
    "version": 3
   },
   "file_extension": ".py",
   "mimetype": "text/x-python",
   "name": "python",
   "nbconvert_exporter": "python",
   "pygments_lexer": "ipython3",
   "version": "3.6.9-final"
  },
  "orig_nbformat": 2,
  "kernelspec": {
   "name": "python3",
   "display_name": "Python 3.6.9 64-bit",
   "metadata": {
    "interpreter": {
     "hash": "31f2aee4e71d21fbe5cf8b01ff0e069b9275f58929596ceb00d14d90e3e16cd6"
    }
   }
  }
 },
 "nbformat": 4,
 "nbformat_minor": 2,
 "cells": [
  {
   "cell_type": "code",
   "execution_count": 125,
   "metadata": {},
   "outputs": [],
   "source": [
    "# !gdown --id 1S6qMioqPJjyBLpLVz4gmRTnJHnjitnuV\n",
    "# !gdown --id 1zdmewp7ayS4js4VtrJEHzAheSW-5NBZv"
   ]
  },
  {
   "cell_type": "code",
   "execution_count": 126,
   "metadata": {},
   "outputs": [
    {
     "output_type": "execute_result",
     "data": {
      "text/plain": [
       "device(type='cuda')"
      ]
     },
     "metadata": {},
     "execution_count": 126
    }
   ],
   "source": [
    "import transformers\n",
    "from transformers import BertModel, BertTokenizer, AdamW, get_linear_schedule_with_warmup\n",
    "import torch\n",
    "\n",
    "import numpy as np\n",
    "import pandas as pd\n",
    "import seaborn as sns\n",
    "from pylab import rcParams\n",
    "import matplotlib.pyplot as plt\n",
    "from matplotlib import rc\n",
    "from sklearn.model_selection import train_test_split\n",
    "from sklearn.metrics import confusion_matrix, classification_report\n",
    "from collections import defaultdict\n",
    "from textwrap import wrap\n",
    "\n",
    "from torch import nn, optim\n",
    "from torch.utils.data import Dataset, DataLoader\n",
    "import torch.nn.functional as F\n",
    "\n",
    "%matplotlib inline\n",
    "%config InlineBackend.figure_format='retina'\n",
    "\n",
    "sns.set(style='whitegrid', palette='muted', font_scale=1.2)\n",
    "\n",
    "HAPPY_COLORS_PALETTE = [\"#01BEFE\", \"#FFDD00\", \"#FF7D00\", \"#FF006D\", \"#ADFF02\", \"#8F00FF\"]\n",
    "\n",
    "sns.set_palette(sns.color_palette(HAPPY_COLORS_PALETTE))\n",
    "\n",
    "rcParams['figure.figsize'] = 8, 6\n",
    "\n",
    "RANDOM_SEED = 42\n",
    "np.random.seed(RANDOM_SEED)\n",
    "\n",
    "device = torch.device(\"cuda\")\n",
    "CUDA_LAUNCH_BLOCKING=1\n",
    "device"
   ]
  },
  {
   "cell_type": "code",
   "execution_count": 127,
   "metadata": {},
   "outputs": [
    {
     "output_type": "execute_result",
     "data": {
      "text/plain": [
       "           userName  ...      appId\n",
       "0     Andrew Thomas  ...  com.anydo\n",
       "1      Craig Haines  ...  com.anydo\n",
       "2     steven adkins  ...  com.anydo\n",
       "3  Lars Panzerbjørn  ...  com.anydo\n",
       "4     Scott Prewitt  ...  com.anydo\n",
       "\n",
       "[5 rows x 11 columns]"
      ],
      "text/html": "<div>\n<style scoped>\n    .dataframe tbody tr th:only-of-type {\n        vertical-align: middle;\n    }\n\n    .dataframe tbody tr th {\n        vertical-align: top;\n    }\n\n    .dataframe thead th {\n        text-align: right;\n    }\n</style>\n<table border=\"1\" class=\"dataframe\">\n  <thead>\n    <tr style=\"text-align: right;\">\n      <th></th>\n      <th>userName</th>\n      <th>userImage</th>\n      <th>content</th>\n      <th>score</th>\n      <th>thumbsUpCount</th>\n      <th>reviewCreatedVersion</th>\n      <th>at</th>\n      <th>replyContent</th>\n      <th>repliedAt</th>\n      <th>sortOrder</th>\n      <th>appId</th>\n    </tr>\n  </thead>\n  <tbody>\n    <tr>\n      <th>0</th>\n      <td>Andrew Thomas</td>\n      <td>https://lh3.googleusercontent.com/a-/AOh14GiHd...</td>\n      <td>Update: After getting a response from the deve...</td>\n      <td>1</td>\n      <td>21</td>\n      <td>4.17.0.3</td>\n      <td>2020-04-05 22:25:57</td>\n      <td>According to our TOS, and the term you have ag...</td>\n      <td>2020-04-05 15:10:24</td>\n      <td>most_relevant</td>\n      <td>com.anydo</td>\n    </tr>\n    <tr>\n      <th>1</th>\n      <td>Craig Haines</td>\n      <td>https://lh3.googleusercontent.com/-hoe0kwSJgPQ...</td>\n      <td>Used it for a fair amount of time without any ...</td>\n      <td>1</td>\n      <td>11</td>\n      <td>4.17.0.3</td>\n      <td>2020-04-04 13:40:01</td>\n      <td>It sounds like you logged in with a different ...</td>\n      <td>2020-04-05 15:11:35</td>\n      <td>most_relevant</td>\n      <td>com.anydo</td>\n    </tr>\n    <tr>\n      <th>2</th>\n      <td>steven adkins</td>\n      <td>https://lh3.googleusercontent.com/a-/AOh14GiXw...</td>\n      <td>Your app sucks now!!!!! Used to be good but no...</td>\n      <td>1</td>\n      <td>17</td>\n      <td>4.17.0.3</td>\n      <td>2020-04-01 16:18:13</td>\n      <td>This sounds odd! We are not aware of any issue...</td>\n      <td>2020-04-02 16:05:56</td>\n      <td>most_relevant</td>\n      <td>com.anydo</td>\n    </tr>\n    <tr>\n      <th>3</th>\n      <td>Lars Panzerbjørn</td>\n      <td>https://lh3.googleusercontent.com/a-/AOh14Gg-h...</td>\n      <td>It seems OK, but very basic. Recurring tasks n...</td>\n      <td>1</td>\n      <td>192</td>\n      <td>4.17.0.2</td>\n      <td>2020-03-12 08:17:34</td>\n      <td>We do offer this option as part of the Advance...</td>\n      <td>2020-03-15 06:20:13</td>\n      <td>most_relevant</td>\n      <td>com.anydo</td>\n    </tr>\n    <tr>\n      <th>4</th>\n      <td>Scott Prewitt</td>\n      <td>https://lh3.googleusercontent.com/-K-X1-YsVd6U...</td>\n      <td>Absolutely worthless. This app runs a prohibit...</td>\n      <td>1</td>\n      <td>42</td>\n      <td>4.17.0.2</td>\n      <td>2020-03-14 17:41:01</td>\n      <td>We're sorry you feel this way! 90% of the app ...</td>\n      <td>2020-03-15 23:45:51</td>\n      <td>most_relevant</td>\n      <td>com.anydo</td>\n    </tr>\n  </tbody>\n</table>\n</div>"
     },
     "metadata": {},
     "execution_count": 127
    }
   ],
   "source": [
    "df = pd.read_csv(\"inputs/reviews.csv\")\n",
    "df.head()"
   ]
  },
  {
   "cell_type": "code",
   "execution_count": 128,
   "metadata": {},
   "outputs": [
    {
     "output_type": "execute_result",
     "data": {
      "text/plain": [
       "Text(0.5, 0, 'reviews')"
      ]
     },
     "metadata": {},
     "execution_count": 128
    },
    {
     "output_type": "display_data",
     "data": {
      "text/plain": "<Figure size 576x432 with 1 Axes>",
      "image/png": "[encoded data removed]"
     },
     "metadata": {
      "image/png": {
       "width": 521,
       "height": 381
      }
     }
    }
   ],
   "source": [
    "sns.countplot(df.score)\n",
    "plt.xlabel(\"reviews\")"
   ]
  },
  {
   "cell_type": "code",
   "execution_count": 129,
   "metadata": {},
   "outputs": [],
   "source": [
    "def rating_to_sentiment(rating):\n",
    "    rating = int(rating)\n",
    "    if rating <= 2:\n",
    "        return 0\n",
    "    elif rating == 3:\n",
    "        return 1\n",
    "    elif rating > 3:\n",
    "        return 2"
   ]
  },
  {
   "cell_type": "code",
   "execution_count": 130,
   "metadata": {},
   "outputs": [],
   "source": [
    "df[\"sentiment\"] = df.score.apply(rating_to_sentiment)"
   ]
  },
  {
   "cell_type": "code",
   "execution_count": 131,
   "metadata": {},
   "outputs": [
    {
     "output_type": "execute_result",
     "data": {
      "text/plain": [
       "                userName  ... sentiment\n",
       "15741          Tammy Kay  ...         2\n",
       "15742          Ysm Johan  ...         2\n",
       "15743      casey dearden  ...         2\n",
       "15744     Jerry G Tamate  ...         2\n",
       "15745  Ahmed elsalamouni  ...         2\n",
       "\n",
       "[5 rows x 12 columns]"
      ],
      "text/html": "<div>\n<style scoped>\n    .dataframe tbody tr th:only-of-type {\n        vertical-align: middle;\n    }\n\n    .dataframe tbody tr th {\n        vertical-align: top;\n    }\n\n    .dataframe thead th {\n        text-align: right;\n    }\n</style>\n<table border=\"1\" class=\"dataframe\">\n  <thead>\n    <tr style=\"text-align: right;\">\n      <th></th>\n      <th>userName</th>\n      <th>userImage</th>\n      <th>content</th>\n      <th>score</th>\n      <th>thumbsUpCount</th>\n      <th>reviewCreatedVersion</th>\n      <th>at</th>\n      <th>replyContent</th>\n      <th>repliedAt</th>\n      <th>sortOrder</th>\n      <th>appId</th>\n      <th>sentiment</th>\n    </tr>\n  </thead>\n  <tbody>\n    <tr>\n      <th>15741</th>\n      <td>Tammy Kay</td>\n      <td>https://lh3.googleusercontent.com/a-/AOh14GhYP...</td>\n      <td>I believe that this is by far the best app wit...</td>\n      <td>5</td>\n      <td>0</td>\n      <td>NaN</td>\n      <td>2018-02-17 06:09:03</td>\n      <td>NaN</td>\n      <td>NaN</td>\n      <td>newest</td>\n      <td>com.appxy.planner</td>\n      <td>2</td>\n    </tr>\n    <tr>\n      <th>15742</th>\n      <td>Ysm Johan</td>\n      <td>https://lh3.googleusercontent.com/a-/AOh14Ggmd...</td>\n      <td>It sometimes crashes a lot!!</td>\n      <td>5</td>\n      <td>0</td>\n      <td>4.3.7</td>\n      <td>2018-02-15 10:45:22</td>\n      <td>NaN</td>\n      <td>NaN</td>\n      <td>newest</td>\n      <td>com.appxy.planner</td>\n      <td>2</td>\n    </tr>\n    <tr>\n      <th>15743</th>\n      <td>casey dearden</td>\n      <td>https://lh3.googleusercontent.com/a-/AOh14Gg2U...</td>\n      <td>Works well for what I need</td>\n      <td>5</td>\n      <td>0</td>\n      <td>4.3.7</td>\n      <td>2018-02-09 18:40:37</td>\n      <td>NaN</td>\n      <td>NaN</td>\n      <td>newest</td>\n      <td>com.appxy.planner</td>\n      <td>2</td>\n    </tr>\n    <tr>\n      <th>15744</th>\n      <td>Jerry G Tamate</td>\n      <td>https://lh3.googleusercontent.com/a-/AOh14GiTP...</td>\n      <td>Love it.</td>\n      <td>5</td>\n      <td>0</td>\n      <td>NaN</td>\n      <td>2018-02-06 12:36:17</td>\n      <td>NaN</td>\n      <td>NaN</td>\n      <td>newest</td>\n      <td>com.appxy.planner</td>\n      <td>2</td>\n    </tr>\n    <tr>\n      <th>15745</th>\n      <td>Ahmed elsalamouni</td>\n      <td>https://lh3.googleusercontent.com/-9QSxVUhCoDI...</td>\n      <td>Really amazing and helped me sooo much just i ...</td>\n      <td>5</td>\n      <td>6</td>\n      <td>4.3.7</td>\n      <td>2018-02-04 22:57:09</td>\n      <td>NaN</td>\n      <td>NaN</td>\n      <td>newest</td>\n      <td>com.appxy.planner</td>\n      <td>2</td>\n    </tr>\n  </tbody>\n</table>\n</div>"
     },
     "metadata": {},
     "execution_count": 131
    }
   ],
   "source": [
    "df.tail()"
   ]
  },
  {
   "cell_type": "code",
   "execution_count": 132,
   "metadata": {},
   "outputs": [
    {
     "output_type": "execute_result",
     "data": {
      "text/plain": [
       "[Text(0, 0, 'negative'), Text(0, 0, 'neutral'), Text(0, 0, 'positive')]"
      ]
     },
     "metadata": {},
     "execution_count": 132
    },
    {
     "output_type": "display_data",
     "data": {
      "text/plain": "<Figure size 576x432 with 1 Axes>",
      "image/png": "[encoded data removed]"
     },
     "metadata": {
      "image/png": {
       "width": 521,
       "height": 381
      }
     }
    }
   ],
   "source": [
    "class_labels = [\"negative\", \"neutral\", \"positive\"]\n",
    "\n",
    "ax = sns.countplot(df.sentiment)\n",
    "plt.xlabel(\"reviews\")\n",
    "ax.set_xticklabels(class_labels)"
   ]
  },
  {
   "source": [
    "Tranformers"
   ],
   "cell_type": "markdown",
   "metadata": {}
  },
  {
   "cell_type": "code",
   "execution_count": 133,
   "metadata": {},
   "outputs": [],
   "source": [
    "tokenizer = transformers.BertTokenizer.from_pretrained(\"bert-base-uncased\")"
   ]
  },
  {
   "cell_type": "code",
   "execution_count": 134,
   "metadata": {},
   "outputs": [
    {
     "output_type": "stream",
     "name": "stdout",
     "text": [
      "['you', \"'\", 're', 'the', 'beat', 'in', 'my', 'chest', 'tuned', 'to', 'cardiac', 'arrest', ',', 'i', 'know', ',', 'am', 'better', 'off', 'without', 'you']\n[2017, 1005, 2128, 1996, 3786, 1999, 2026, 3108, 15757, 2000, 15050, 6545, 1010, 1045, 2113, 1010, 2572, 2488, 2125, 2302, 2017]\n"
     ]
    }
   ],
   "source": [
    "sample_txt = \"You're the beat in my chest tuned to cardiac arrest, I know, Am better off without you\"\n",
    "tokens = tokenizer.tokenize(sample_txt)\n",
    "token_ids = tokenizer.convert_tokens_to_ids(tokens)\n",
    "print(tokens)\n",
    "print(token_ids)"
   ]
  },
  {
   "source": [
    "Special tokens"
   ],
   "cell_type": "markdown",
   "metadata": {}
  },
  {
   "cell_type": "code",
   "execution_count": 135,
   "metadata": {},
   "outputs": [
    {
     "output_type": "stream",
     "name": "stdout",
     "text": [
      "[SEP] 102\n[CLS] 101\n[PAD] 0\n[UNK] 100\n"
     ]
    }
   ],
   "source": [
    "print(tokenizer.sep_token, tokenizer.sep_token_id)\n",
    "print(tokenizer.cls_token, tokenizer.cls_token_id)\n",
    "print(tokenizer.pad_token, tokenizer.pad_token_id)\n",
    "print(tokenizer.unk_token, tokenizer.unk_token_id)"
   ]
  },
  {
   "cell_type": "code",
   "execution_count": 136,
   "metadata": {},
   "outputs": [
    {
     "output_type": "execute_result",
     "data": {
      "text/plain": [
       "\"[CLS] you're the beat in my chest tuned to cardiac arrest, i know, am better off without you [SEP]\""
      ],
      "application/vnd.google.colaboratory.intrinsic+json": {
       "type": "string"
      }
     },
     "metadata": {},
     "execution_count": 136
    }
   ],
   "source": [
    "tokenizer.decode(tokenizer.encode(sample_txt))"
   ]
  },
  {
   "cell_type": "code",
   "execution_count": 137,
   "metadata": {},
   "outputs": [],
   "source": [
    "encoding = tokenizer.encode_plus(\n",
    "    sample_txt,\n",
    "    max_length = 32,\n",
    "    add_special_tokens=True,\n",
    "    pad_to_max_length=True,\n",
    "    truncation=True,\n",
    "    return_attention_mask=True,\n",
    "    return_token_type_ids=False,\n",
    "    return_tensors=\"pt\"\n",
    ")"
   ]
  },
  {
   "cell_type": "code",
   "execution_count": 138,
   "metadata": {},
   "outputs": [
    {
     "output_type": "stream",
     "name": "stdout",
     "text": [
      "32\n"
     ]
    },
    {
     "output_type": "execute_result",
     "data": {
      "text/plain": [
       "tensor([  101,  2017,  1005,  2128,  1996,  3786,  1999,  2026,  3108, 15757,\n",
       "         2000, 15050,  6545,  1010,  1045,  2113,  1010,  2572,  2488,  2125,\n",
       "         2302,  2017,   102,     0,     0,     0,     0,     0,     0,     0,\n",
       "            0,     0])"
      ]
     },
     "metadata": {},
     "execution_count": 138
    }
   ],
   "source": [
    "print(len(encoding['input_ids'][0]))\n",
    "encoding['input_ids'][0]"
   ]
  },
  {
   "cell_type": "code",
   "execution_count": 139,
   "metadata": {},
   "outputs": [
    {
     "output_type": "stream",
     "name": "stdout",
     "text": [
      "32\n"
     ]
    },
    {
     "output_type": "execute_result",
     "data": {
      "text/plain": [
       "tensor([[1, 1, 1, 1, 1, 1, 1, 1, 1, 1, 1, 1, 1, 1, 1, 1, 1, 1, 1, 1, 1, 1, 1, 0,\n",
       "         0, 0, 0, 0, 0, 0, 0, 0]])"
      ]
     },
     "metadata": {},
     "execution_count": 139
    }
   ],
   "source": [
    "print(len(encoding['attention_mask'][0]))\n",
    "encoding['attention_mask']"
   ]
  },
  {
   "cell_type": "code",
   "execution_count": 140,
   "metadata": {},
   "outputs": [
    {
     "output_type": "stream",
     "name": "stdout",
     "text": [
      "['[CLS]', 'you', \"'\", 're', 'the', 'beat', 'in', 'my', 'chest', 'tuned', 'to', 'cardiac', 'arrest', ',', 'i', 'know', ',', 'am', 'better', 'off', 'without', 'you', '[SEP]', '[PAD]', '[PAD]', '[PAD]', '[PAD]', '[PAD]', '[PAD]', '[PAD]', '[PAD]', '[PAD]']\n"
     ]
    }
   ],
   "source": [
    "print(tokenizer.convert_ids_to_tokens(encoding['input_ids'][0]))\n"
   ]
  },
  {
   "cell_type": "code",
   "execution_count": 141,
   "metadata": {},
   "outputs": [
    {
     "output_type": "stream",
     "name": "stderr",
     "text": [
      "Truncation was not explicitly activated but `max_length` is provided a specific value, please use `truncation=True` to explicitly truncate examples to max length. Defaulting to 'longest_first' truncation strategy. If you encode pairs of sequences (GLUE-style) with the tokenizer you can select this strategy more precisely by providing a specific strategy to `truncation`.\n"
     ]
    }
   ],
   "source": [
    "token_lens = []\n",
    "\n",
    "for txt in df.content:\n",
    "  tokens = tokenizer.encode(txt, max_length=512)\n",
    "  token_lens.append(len(tokens))"
   ]
  },
  {
   "cell_type": "code",
   "execution_count": 142,
   "metadata": {},
   "outputs": [
    {
     "output_type": "display_data",
     "data": {
      "text/plain": "<Figure size 576x432 with 1 Axes>",
      "image/png": "[encoded data removed]"
     },
     "metadata": {
      "image/png": {
       "width": 536,
       "height": 385
      }
     }
    }
   ],
   "source": [
    "sns.distplot(token_lens)\n",
    "plt.xlim([0, 256]);\n",
    "plt.xlabel('Token count');"
   ]
  },
  {
   "cell_type": "code",
   "execution_count": 143,
   "metadata": {},
   "outputs": [],
   "source": [
    "MAX_LEN = 160\n",
    "BATCH_SIZE = 16\n",
    "EPOCHS=100\n",
    "BERT_NAME = \"bert-base-uncased\""
   ]
  },
  {
   "cell_type": "code",
   "execution_count": 144,
   "metadata": {},
   "outputs": [],
   "source": [
    "class GPReviewDataset(Dataset):\n",
    "\n",
    "  def __init__(self, reviews, targets, tokenizer, max_len):\n",
    "    self.reviews = reviews\n",
    "    self.targets = targets\n",
    "    self.tokenizer = tokenizer\n",
    "    self.max_len = max_len\n",
    "  \n",
    "  def __len__(self):\n",
    "    return len(self.reviews)\n",
    "  \n",
    "  def __getitem__(self, item):\n",
    "    review = str(self.reviews[item])\n",
    "    target = self.targets[item]\n",
    "\n",
    "    encoding = self.tokenizer.encode_plus(\n",
    "      review,\n",
    "      add_special_tokens=True,\n",
    "      max_length=self.max_len,\n",
    "      return_token_type_ids=False,\n",
    "      pad_to_max_length=True,\n",
    "      return_attention_mask=True,\n",
    "      return_tensors='pt',\n",
    "    )\n",
    "\n",
    "    return {\n",
    "      'review_text': review,\n",
    "      'input_ids': encoding['input_ids'].flatten(),\n",
    "      'attention_mask': encoding['attention_mask'].flatten(),\n",
    "      'targets': torch.tensor(target, dtype=torch.long)\n",
    "    }"
   ]
  },
  {
   "cell_type": "code",
   "execution_count": 145,
   "metadata": {},
   "outputs": [],
   "source": [
    "df_train, df_rem = train_test_split(df, test_size=0.1, random_state=RANDOM_SEED)\n",
    "df_val, df_test = train_test_split(df_rem, test_size=0.5, random_state=RANDOM_SEED)"
   ]
  },
  {
   "cell_type": "code",
   "execution_count": 146,
   "metadata": {},
   "outputs": [
    {
     "output_type": "execute_result",
     "data": {
      "text/plain": [
       "((14171, 12), (787, 12), (788, 12))"
      ]
     },
     "metadata": {},
     "execution_count": 146
    }
   ],
   "source": [
    "df_train.shape, df_val.shape, df_test.shape\n"
   ]
  },
  {
   "cell_type": "code",
   "execution_count": 147,
   "metadata": {},
   "outputs": [],
   "source": [
    "def create_data_loader(df, tokenizer, max_len, batch_size):\n",
    "  ds = GPReviewDataset(\n",
    "    reviews=df.content.to_numpy(),\n",
    "    targets=df.sentiment.to_numpy(),\n",
    "    tokenizer=tokenizer,\n",
    "    max_len=max_len\n",
    "  )\n",
    "\n",
    "  return DataLoader(\n",
    "    ds,\n",
    "    batch_size=batch_size,\n",
    "    num_workers=4\n",
    "  )"
   ]
  },
  {
   "cell_type": "code",
   "execution_count": 148,
   "metadata": {},
   "outputs": [],
   "source": [
    "train_data_loader = create_data_loader(df_train, tokenizer, MAX_LEN, BATCH_SIZE)\n",
    "val_data_loader = create_data_loader(df_val, tokenizer, MAX_LEN, BATCH_SIZE)\n",
    "test_data_loader = create_data_loader(df_test, tokenizer, MAX_LEN, BATCH_SIZE)"
   ]
  },
  {
   "cell_type": "code",
   "execution_count": 149,
   "metadata": {},
   "outputs": [
    {
     "output_type": "execute_result",
     "data": {
      "text/plain": [
       "dict_keys(['review_text', 'input_ids', 'attention_mask', 'targets'])"
      ]
     },
     "metadata": {},
     "execution_count": 149
    }
   ],
   "source": [
    "data = next(iter(train_data_loader))\n",
    "data.keys()"
   ]
  },
  {
   "cell_type": "code",
   "execution_count": 150,
   "metadata": {},
   "outputs": [
    {
     "output_type": "stream",
     "name": "stdout",
     "text": [
      "torch.Size([16, 160])\ntorch.Size([16, 160])\ntorch.Size([16])\n"
     ]
    }
   ],
   "source": [
    "print(data['input_ids'].shape)\n",
    "print(data['attention_mask'].shape)\n",
    "print(data['targets'].shape)"
   ]
  },
  {
   "cell_type": "code",
   "execution_count": 151,
   "metadata": {},
   "outputs": [],
   "source": [
    "bert_model = BertModel.from_pretrained(BERT_NAME)"
   ]
  },
  {
   "cell_type": "code",
   "execution_count": 152,
   "metadata": {},
   "outputs": [],
   "source": [
    "last_hidden_state, pooled_output = bert_model(\n",
    "  input_ids=encoding['input_ids'], \n",
    "  attention_mask=encoding['attention_mask']\n",
    ").values()"
   ]
  },
  {
   "cell_type": "code",
   "execution_count": 153,
   "metadata": {},
   "outputs": [
    {
     "output_type": "execute_result",
     "data": {
      "text/plain": [
       "(torch.Size([1, 768]), torch.Size([1, 32, 768]))"
      ]
     },
     "metadata": {},
     "execution_count": 153
    }
   ],
   "source": [
    "pooled_output.shape, last_hidden_state.shape"
   ]
  },
  {
   "cell_type": "code",
   "execution_count": 154,
   "metadata": {},
   "outputs": [
    {
     "output_type": "execute_result",
     "data": {
      "text/plain": [
       "768"
      ]
     },
     "metadata": {},
     "execution_count": 154
    }
   ],
   "source": [
    "bert_model.config.hidden_size"
   ]
  },
  {
   "cell_type": "code",
   "execution_count": 155,
   "metadata": {},
   "outputs": [],
   "source": [
    "class SentimentClassifier(nn.Module):\n",
    "    def __init__(self, num_classes):\n",
    "        super(SentimentClassifier, self).__init__()\n",
    "        self.bert = BertModel.from_pretrained(BERT_NAME)\n",
    "        self.dropout = nn.Dropout(p=0.2)\n",
    "        self.out = nn.Linear(self.bert.config.hidden_size, num_classes)\n",
    "        self.softmax = nn.Softmax(dim=1)\n",
    "\n",
    "    def forward(self, input_ids, attention_mask):\n",
    "        last_hidden_state, pooler_output = self.bert(input_ids=input_ids, attention_mask=attention_mask).values()\n",
    "        dropout_output = self.dropout(pooler_output)\n",
    "        output = self.out(dropout_output)\n",
    "        fin_output = self.softmax(output)\n",
    "        return fin_output"
   ]
  },
  {
   "cell_type": "code",
   "execution_count": 156,
   "metadata": {},
   "outputs": [],
   "source": [
    "model=SentimentClassifier(num_classes=len(class_labels))\n",
    "model.load_state_dict(torch.load(\"best_model_state.bin\"))\n",
    "model = model.to(device)"
   ]
  },
  {
   "cell_type": "code",
   "execution_count": 157,
   "metadata": {},
   "outputs": [],
   "source": [
    "input_ids = data[\"input_ids\"].to(device)\n",
    "attention_mask = data[\"attention_mask\"].to(device)"
   ]
  },
  {
   "cell_type": "code",
   "execution_count": 158,
   "metadata": {},
   "outputs": [
    {
     "output_type": "execute_result",
     "data": {
      "text/plain": [
       "tensor([[9.9996e-01, 2.6527e-05, 1.0404e-05],\n",
       "        [6.4449e-05, 9.9992e-01, 1.6946e-05],\n",
       "        [2.8328e-05, 9.9995e-01, 1.8451e-05],\n",
       "        [1.2025e-05, 1.1997e-05, 9.9998e-01],\n",
       "        [9.9997e-01, 1.5604e-05, 1.8267e-05],\n",
       "        [7.0023e-06, 7.7845e-06, 9.9999e-01],\n",
       "        [1.0102e-05, 9.9996e-01, 2.9922e-05],\n",
       "        [1.2458e-05, 1.2455e-05, 9.9998e-01],\n",
       "        [2.8485e-05, 2.4373e-05, 9.9995e-01],\n",
       "        [3.0637e-05, 9.9992e-01, 4.9430e-05],\n",
       "        [9.9992e-01, 3.5171e-05, 4.0016e-05],\n",
       "        [1.2404e-05, 9.9995e-01, 3.7952e-05],\n",
       "        [9.9995e-01, 2.0114e-05, 2.9748e-05],\n",
       "        [9.9996e-01, 2.0561e-05, 1.4532e-05],\n",
       "        [8.1492e-06, 9.9997e-01, 2.3742e-05],\n",
       "        [9.9996e-01, 2.0951e-05, 2.1597e-05]], device='cuda:0',\n",
       "       grad_fn=<SoftmaxBackward>)"
      ]
     },
     "metadata": {},
     "execution_count": 158
    }
   ],
   "source": [
    "model(input_ids, attention_mask)"
   ]
  },
  {
   "source": [
    "Different optimizer for the BERT and the hugging face parts\n",
    "AdamW optimizer"
   ],
   "cell_type": "markdown",
   "metadata": {}
  },
  {
   "cell_type": "code",
   "execution_count": 159,
   "metadata": {},
   "outputs": [],
   "source": [
    "optimizer = AdamW(\n",
    "    model.parameters(),\n",
    "    lr=2e-5,\n",
    "    correct_bias=False\n",
    ")\n",
    "total_steps = len(train_data_loader) * EPOCHS\n",
    "scheduler = get_linear_schedule_with_warmup(\n",
    "    optimizer,\n",
    "    num_warmup_steps=0,\n",
    "    num_training_steps=total_steps\n",
    ")\n",
    "loss_fn = nn.CrossEntropyLoss().to(device)"
   ]
  },
  {
   "source": [
    "Training function"
   ],
   "cell_type": "markdown",
   "metadata": {}
  },
  {
   "cell_type": "code",
   "execution_count": 160,
   "metadata": {},
   "outputs": [],
   "source": [
    "from tqdm import tqdm\n",
    "\n",
    "def train_fn(model, dataloader, loss_fn, optimizer, device, scheduler, n_examples):\n",
    "    model = model.train()\n",
    "    losses = []\n",
    "    correct_preds = 0\n",
    "    for data in tqdm(dataloader, total=len(dataloader)):\n",
    "        input_ids = data[\"input_ids\"].to(device)\n",
    "        attention_mask = data[\"attention_mask\"].to(device)\n",
    "        targets = data[\"targets\"].to(device)\n",
    "\n",
    "        outputs = model(input_ids, attention_mask)\n",
    "        _, preds = torch.max(outputs, dim=1)\n",
    "        loss = loss_fn(outputs, targets)\n",
    "        correct_preds += torch.sum(preds == targets)\n",
    "        losses.append(loss.item())\n",
    "        loss.backward()\n",
    "        nn.utils.clip_grad_norm_(model.parameters(), max_norm=1.0)\n",
    "        optimizer.step()\n",
    "        scheduler.step()\n",
    "        optimizer.zero_grad()\n",
    "        \n",
    "    return correct_preds.double() / n_examples , np.mean(losses)"
   ]
  },
  {
   "cell_type": "code",
   "execution_count": 161,
   "metadata": {},
   "outputs": [],
   "source": [
    "def eval_model(model, dataloader, loss_fn, device, n_examples):\n",
    "  model = model.eval()\n",
    "\n",
    "  losses = []\n",
    "  correct_predictions = 0\n",
    "\n",
    "  with torch.no_grad():\n",
    "    for d in tqdm(dataloader, total=len(dataloader)):\n",
    "      input_ids = d[\"input_ids\"].to(device)\n",
    "      attention_mask = d[\"attention_mask\"].to(device)\n",
    "      targets = d[\"targets\"].to(device)\n",
    "\n",
    "      outputs = model(\n",
    "        input_ids=input_ids,\n",
    "        attention_mask=attention_mask\n",
    "      )\n",
    "      _, preds = torch.max(outputs, dim=1)\n",
    "\n",
    "      loss = loss_fn(outputs, targets)\n",
    "\n",
    "      correct_predictions += torch.sum(preds == targets)\n",
    "      losses.append(loss.item())\n",
    "\n",
    "  return correct_predictions.double() / n_examples, np.mean(losses)"
   ]
  },
  {
   "cell_type": "code",
   "execution_count": 162,
   "metadata": {},
   "outputs": [
    {
     "output_type": "stream",
     "name": "stderr",
     "text": [
      "\n",
      "  0%|          | 0/886 [00:00<?, ?it/s]\u001b[AEpoch 1/100\n",
      "----------\n",
      "\n",
      "  0%|          | 1/886 [00:01<15:25,  1.05s/it]\u001b[A\n",
      "  0%|          | 2/886 [00:01<13:01,  1.13it/s]\u001b[A\n",
      "  0%|          | 3/886 [00:01<11:02,  1.33it/s]\u001b[A\n",
      "  0%|          | 4/886 [00:02<09:43,  1.51it/s]\u001b[A\n",
      "  1%|          | 5/886 [00:02<08:42,  1.69it/s]\u001b[A\n",
      "  1%|          | 6/886 [00:03<08:00,  1.83it/s]\u001b[A\n",
      "  1%|          | 7/886 [00:03<07:30,  1.95it/s]\u001b[A\n",
      "  1%|          | 8/886 [00:04<07:11,  2.04it/s]\u001b[A\n",
      "  1%|          | 9/886 [00:04<06:53,  2.12it/s]\u001b[A\n",
      "  1%|          | 10/886 [00:05<06:47,  2.15it/s]\u001b[A\n",
      "  1%|          | 11/886 [00:05<06:37,  2.20it/s]\u001b[A\n",
      "  1%|▏         | 12/886 [00:05<06:33,  2.22it/s]\u001b[A\n",
      "  1%|▏         | 13/886 [00:06<06:31,  2.23it/s]\u001b[A\n",
      "  2%|▏         | 14/886 [00:06<06:29,  2.24it/s]\u001b[A\n",
      "  2%|▏         | 15/886 [00:07<06:27,  2.25it/s]\u001b[A\n",
      "  2%|▏         | 16/886 [00:07<06:23,  2.27it/s]\u001b[A\n",
      "  2%|▏         | 17/886 [00:08<06:24,  2.26it/s]\u001b[A\n",
      "  2%|▏         | 18/886 [00:08<06:23,  2.26it/s]\u001b[A\n",
      "  2%|▏         | 19/886 [00:09<06:20,  2.28it/s]\u001b[A\n",
      "  2%|▏         | 20/886 [00:09<06:20,  2.27it/s]\u001b[A\n",
      "  2%|▏         | 21/886 [00:09<06:22,  2.26it/s]\u001b[A\n",
      "  2%|▏         | 22/886 [00:10<06:20,  2.27it/s]\u001b[A\n",
      "  3%|▎         | 23/886 [00:10<06:21,  2.26it/s]\u001b[A\n",
      "  3%|▎         | 24/886 [00:11<06:23,  2.25it/s]\u001b[A\n",
      "  3%|▎         | 25/886 [00:11<06:25,  2.24it/s]\u001b[A\n",
      "  3%|▎         | 26/886 [00:12<06:24,  2.23it/s]\u001b[A\n",
      "  3%|▎         | 27/886 [00:12<06:20,  2.26it/s]\u001b[A\n",
      "  3%|▎         | 28/886 [00:12<06:15,  2.29it/s]\u001b[A\n",
      "  3%|▎         | 29/886 [00:13<06:17,  2.27it/s]\u001b[A\n",
      "  3%|▎         | 30/886 [00:13<06:17,  2.27it/s]\u001b[A\n",
      "  3%|▎         | 31/886 [00:14<06:19,  2.25it/s]\u001b[A\n",
      "  4%|▎         | 32/886 [00:14<06:19,  2.25it/s]\u001b[A\n",
      "  4%|▎         | 33/886 [00:15<06:17,  2.26it/s]\u001b[A\n",
      "  4%|▍         | 34/886 [00:15<06:16,  2.27it/s]\u001b[A\n",
      "  4%|▍         | 35/886 [00:16<06:16,  2.26it/s]\u001b[A\n",
      "  4%|▍         | 36/886 [00:16<06:14,  2.27it/s]\u001b[A\n",
      "  4%|▍         | 37/886 [00:16<06:13,  2.27it/s]\u001b[A\n",
      "  4%|▍         | 38/886 [00:17<06:16,  2.25it/s]\u001b[A\n",
      "  4%|▍         | 39/886 [00:17<06:14,  2.26it/s]\u001b[A\n",
      "  5%|▍         | 40/886 [00:18<06:14,  2.26it/s]\u001b[A\n",
      "  5%|▍         | 41/886 [00:18<06:10,  2.28it/s]\u001b[A\n",
      "  5%|▍         | 42/886 [00:19<06:11,  2.27it/s]\u001b[A\n",
      "  5%|▍         | 43/886 [00:19<06:12,  2.27it/s]\u001b[A\n",
      "  5%|▍         | 44/886 [00:20<06:13,  2.25it/s]\u001b[A\n",
      "  5%|▌         | 45/886 [00:20<06:11,  2.26it/s]\u001b[A\n",
      "  5%|▌         | 46/886 [00:20<06:10,  2.27it/s]\u001b[A\n",
      "  5%|▌         | 47/886 [00:21<06:16,  2.23it/s]\u001b[A\n",
      "  5%|▌         | 48/886 [00:21<06:14,  2.24it/s]\u001b[A\n",
      "  6%|▌         | 49/886 [00:22<06:11,  2.25it/s]\u001b[A\n",
      "  6%|▌         | 50/886 [00:22<06:08,  2.27it/s]\u001b[A\n",
      "  6%|▌         | 51/886 [00:23<06:08,  2.26it/s]\u001b[A\n",
      "  6%|▌         | 52/886 [00:23<06:11,  2.25it/s]\u001b[A\n",
      "  6%|▌         | 53/886 [00:24<06:09,  2.26it/s]\u001b[A\n",
      "  6%|▌         | 54/886 [00:24<06:09,  2.25it/s]\u001b[A\n",
      "  6%|▌         | 55/886 [00:24<06:08,  2.25it/s]\u001b[A\n",
      "  6%|▋         | 56/886 [00:25<06:08,  2.25it/s]\u001b[A\n",
      "  6%|▋         | 57/886 [00:25<06:08,  2.25it/s]\u001b[A\n",
      "  7%|▋         | 58/886 [00:26<06:09,  2.24it/s]\u001b[A\n",
      "  7%|▋         | 59/886 [00:26<06:07,  2.25it/s]\u001b[A\n",
      "  7%|▋         | 60/886 [00:27<06:07,  2.25it/s]\u001b[A\n",
      "  7%|▋         | 61/886 [00:27<06:09,  2.23it/s]\u001b[A\n",
      "  7%|▋         | 62/886 [00:28<06:06,  2.25it/s]\u001b[A\n",
      "  7%|▋         | 63/886 [00:28<06:06,  2.24it/s]\u001b[A\n",
      "  7%|▋         | 64/886 [00:28<06:04,  2.25it/s]\u001b[A\n",
      "  7%|▋         | 65/886 [00:29<06:06,  2.24it/s]\u001b[A\n",
      "  7%|▋         | 66/886 [00:29<06:08,  2.23it/s]\u001b[A\n",
      "  8%|▊         | 67/886 [00:30<06:07,  2.23it/s]\u001b[A\n",
      "  8%|▊         | 68/886 [00:30<06:07,  2.23it/s]\u001b[A\n",
      "  8%|▊         | 69/886 [00:31<06:04,  2.24it/s]\u001b[A\n",
      "  8%|▊         | 70/886 [00:31<06:03,  2.25it/s]\u001b[A\n",
      "  8%|▊         | 71/886 [00:32<06:02,  2.25it/s]\u001b[A\n",
      "  8%|▊         | 72/886 [00:32<06:02,  2.25it/s]\u001b[A\n",
      "  8%|▊         | 73/886 [00:32<06:02,  2.24it/s]\u001b[A\n",
      "  8%|▊         | 74/886 [00:33<06:03,  2.24it/s]\u001b[A\n",
      "  8%|▊         | 75/886 [00:33<06:02,  2.24it/s]\u001b[A\n",
      "  9%|▊         | 76/886 [00:34<05:59,  2.25it/s]\u001b[A\n",
      "  9%|▊         | 77/886 [00:34<06:00,  2.24it/s]\u001b[A\n",
      "  9%|▉         | 78/886 [00:35<06:00,  2.24it/s]\u001b[A\n",
      "  9%|▉         | 79/886 [00:35<06:03,  2.22it/s]\u001b[A\n",
      "  9%|▉         | 80/886 [00:36<06:03,  2.22it/s]\u001b[A\n",
      "  9%|▉         | 81/886 [00:36<06:01,  2.22it/s]\u001b[A\n",
      "  9%|▉         | 82/886 [00:37<05:59,  2.24it/s]\u001b[A\n",
      "  9%|▉         | 83/886 [00:37<05:58,  2.24it/s]\u001b[A\n",
      "  9%|▉         | 84/886 [00:37<05:56,  2.25it/s]\u001b[A\n",
      " 10%|▉         | 85/886 [00:38<05:57,  2.24it/s]\u001b[A\n",
      " 10%|▉         | 86/886 [00:38<05:56,  2.24it/s]\u001b[A\n",
      " 10%|▉         | 87/886 [00:39<05:57,  2.24it/s]\u001b[A\n",
      " 10%|▉         | 88/886 [00:39<05:54,  2.25it/s]\u001b[A\n",
      " 10%|█         | 89/886 [00:40<05:53,  2.25it/s]\u001b[A\n",
      " 10%|█         | 90/886 [00:40<05:53,  2.25it/s]\u001b[A\n",
      " 10%|█         | 91/886 [00:41<05:53,  2.25it/s]\u001b[A\n",
      " 10%|█         | 92/886 [00:41<05:52,  2.25it/s]\u001b[A\n",
      " 10%|█         | 93/886 [00:41<05:54,  2.24it/s]\u001b[A\n",
      " 11%|█         | 94/886 [00:42<05:51,  2.25it/s]\u001b[A\n",
      " 11%|█         | 95/886 [00:42<05:53,  2.24it/s]\u001b[A\n",
      " 11%|█         | 96/886 [00:43<05:53,  2.23it/s]\u001b[A\n",
      " 11%|█         | 97/886 [00:43<05:53,  2.23it/s]\u001b[A\n",
      " 11%|█         | 98/886 [00:44<05:50,  2.25it/s]\u001b[A\n",
      " 11%|█         | 99/886 [00:44<05:52,  2.24it/s]\u001b[A\n",
      " 11%|█▏        | 100/886 [00:45<05:47,  2.26it/s]\u001b[A\n",
      " 11%|█▏        | 101/886 [00:45<05:48,  2.25it/s]\u001b[A\n",
      " 12%|█▏        | 102/886 [00:45<05:47,  2.25it/s]\u001b[A\n",
      " 12%|█▏        | 103/886 [00:46<05:47,  2.26it/s]\u001b[A\n",
      " 12%|█▏        | 104/886 [00:46<05:46,  2.26it/s]\u001b[A\n",
      " 12%|█▏        | 105/886 [00:47<05:46,  2.25it/s]\u001b[A\n",
      " 12%|█▏        | 106/886 [00:47<05:48,  2.24it/s]\u001b[A\n",
      " 12%|█▏        | 107/886 [00:48<05:46,  2.25it/s]\u001b[A\n",
      " 12%|█▏        | 108/886 [00:48<05:45,  2.25it/s]\u001b[A\n",
      " 12%|█▏        | 109/886 [00:49<05:44,  2.25it/s]\u001b[A\n",
      " 12%|█▏        | 110/886 [00:49<05:43,  2.26it/s]\u001b[A\n",
      " 13%|█▎        | 111/886 [00:49<05:45,  2.24it/s]\u001b[A\n",
      " 13%|█▎        | 112/886 [00:50<05:48,  2.22it/s]\u001b[A\n",
      " 13%|█▎        | 113/886 [00:50<05:48,  2.22it/s]\u001b[A\n",
      " 13%|█▎        | 114/886 [00:51<05:47,  2.22it/s]\u001b[A\n",
      " 13%|█▎        | 115/886 [00:51<05:44,  2.24it/s]\u001b[A\n",
      " 13%|█▎        | 116/886 [00:52<05:45,  2.23it/s]\u001b[A\n",
      " 13%|█▎        | 117/886 [00:52<05:45,  2.23it/s]\u001b[A\n",
      " 13%|█▎        | 118/886 [00:53<05:46,  2.22it/s]\u001b[A\n",
      " 13%|█▎        | 119/886 [00:53<05:43,  2.23it/s]\u001b[A\n",
      " 14%|█▎        | 120/886 [00:53<05:42,  2.24it/s]\u001b[A\n",
      " 14%|█▎        | 121/886 [00:54<05:44,  2.22it/s]\u001b[A\n",
      " 14%|█▍        | 122/886 [00:54<05:44,  2.21it/s]\u001b[A\n",
      " 14%|█▍        | 123/886 [00:55<05:43,  2.22it/s]\u001b[A\n",
      " 14%|█▍        | 124/886 [00:55<05:42,  2.22it/s]\u001b[A\n",
      " 14%|█▍        | 125/886 [00:56<05:47,  2.19it/s]\u001b[A\n",
      " 14%|█▍        | 126/886 [00:56<05:44,  2.21it/s]\u001b[A\n",
      " 14%|█▍        | 127/886 [00:57<05:44,  2.20it/s]\u001b[A\n",
      " 14%|█▍        | 128/886 [00:57<05:47,  2.18it/s]\u001b[A\n",
      " 15%|█▍        | 129/886 [00:58<05:43,  2.21it/s]\u001b[A\n",
      " 15%|█▍        | 130/886 [00:58<05:40,  2.22it/s]\u001b[A\n",
      " 15%|█▍        | 131/886 [00:58<05:38,  2.23it/s]\u001b[A\n",
      " 15%|█▍        | 132/886 [00:59<05:37,  2.23it/s]\u001b[A\n",
      " 15%|█▌        | 133/886 [00:59<05:40,  2.21it/s]\u001b[A\n",
      " 15%|█▌        | 134/886 [01:00<05:38,  2.22it/s]\u001b[A\n",
      " 15%|█▌        | 135/886 [01:00<05:37,  2.22it/s]\u001b[A\n",
      " 15%|█▌        | 136/886 [01:01<05:35,  2.24it/s]\u001b[A\n",
      " 15%|█▌        | 137/886 [01:01<05:35,  2.23it/s]\u001b[A\n",
      " 16%|█▌        | 138/886 [01:02<05:35,  2.23it/s]\u001b[A\n",
      " 16%|█▌        | 139/886 [01:02<05:39,  2.20it/s]\u001b[A\n",
      " 16%|█▌        | 140/886 [01:03<05:36,  2.21it/s]\u001b[A\n",
      " 16%|█▌        | 141/886 [01:03<05:38,  2.20it/s]\u001b[A\n",
      " 16%|█▌        | 142/886 [01:03<05:40,  2.19it/s]\u001b[A\n",
      " 16%|█▌        | 143/886 [01:04<05:45,  2.15it/s]\u001b[A\n",
      " 16%|█▋        | 144/886 [01:04<05:43,  2.16it/s]\u001b[A\n",
      " 16%|█▋        | 145/886 [01:05<05:40,  2.17it/s]\u001b[A\n",
      " 16%|█▋        | 146/886 [01:05<05:39,  2.18it/s]\u001b[A\n",
      " 17%|█▋        | 147/886 [01:06<05:39,  2.18it/s]\u001b[A\n",
      " 17%|█▋        | 148/886 [01:06<05:37,  2.19it/s]\u001b[A\n",
      " 17%|█▋        | 149/886 [01:07<05:37,  2.19it/s]\u001b[A\n",
      " 17%|█▋        | 150/886 [01:07<05:39,  2.17it/s]\u001b[A\n",
      " 17%|█▋        | 151/886 [01:08<05:37,  2.18it/s]\u001b[A\n",
      " 17%|█▋        | 152/886 [01:08<05:35,  2.19it/s]\u001b[A\n",
      " 17%|█▋        | 153/886 [01:08<05:31,  2.21it/s]\u001b[A\n",
      " 17%|█▋        | 154/886 [01:09<05:29,  2.22it/s]\u001b[A\n",
      " 17%|█▋        | 155/886 [01:09<05:28,  2.22it/s]\u001b[A\n",
      " 18%|█▊        | 156/886 [01:10<05:28,  2.22it/s]\u001b[A\n",
      " 18%|█▊        | 157/886 [01:10<05:30,  2.21it/s]\u001b[A\n",
      " 18%|█▊        | 158/886 [01:11<05:26,  2.23it/s]\u001b[A\n",
      " 18%|█▊        | 159/886 [01:11<05:29,  2.20it/s]\u001b[A\n",
      " 18%|█▊        | 160/886 [01:12<05:28,  2.21it/s]\u001b[A\n",
      " 18%|█▊        | 161/886 [01:12<05:32,  2.18it/s]\u001b[A\n",
      " 18%|█▊        | 162/886 [01:13<05:29,  2.20it/s]\u001b[A\n",
      " 18%|█▊        | 163/886 [01:13<05:29,  2.19it/s]\u001b[A\n",
      " 19%|█▊        | 164/886 [01:13<05:30,  2.19it/s]\u001b[A\n",
      " 19%|█▊        | 165/886 [01:14<05:27,  2.20it/s]\u001b[A\n",
      " 19%|█▊        | 166/886 [01:14<05:24,  2.22it/s]\u001b[A\n",
      " 19%|█▉        | 167/886 [01:15<05:23,  2.22it/s]\u001b[A\n",
      " 19%|█▉        | 168/886 [01:15<05:23,  2.22it/s]\u001b[A\n",
      " 19%|█▉        | 169/886 [01:16<05:22,  2.23it/s]\u001b[A\n",
      " 19%|█▉        | 170/886 [01:16<05:23,  2.21it/s]\u001b[A\n",
      " 19%|█▉        | 171/886 [01:17<05:23,  2.21it/s]\u001b[A\n",
      " 19%|█▉        | 172/886 [01:17<05:25,  2.20it/s]\u001b[A\n",
      " 20%|█▉        | 173/886 [01:18<05:26,  2.19it/s]\u001b[A\n",
      " 20%|█▉        | 174/886 [01:18<05:24,  2.19it/s]\u001b[A\n",
      " 20%|█▉        | 175/886 [01:18<05:22,  2.20it/s]\u001b[A\n",
      " 20%|█▉        | 176/886 [01:19<05:25,  2.18it/s]\u001b[A\n",
      " 20%|█▉        | 177/886 [01:19<05:24,  2.19it/s]\u001b[A\n",
      " 20%|██        | 178/886 [01:20<05:24,  2.18it/s]\u001b[A\n",
      " 20%|██        | 179/886 [01:20<05:24,  2.18it/s]\u001b[A\n",
      " 20%|██        | 180/886 [01:21<05:23,  2.18it/s]\u001b[A\n",
      " 20%|██        | 181/886 [01:21<05:23,  2.18it/s]\u001b[A\n",
      " 21%|██        | 182/886 [01:22<05:21,  2.19it/s]\u001b[A\n",
      " 21%|██        | 183/886 [01:22<05:17,  2.21it/s]\u001b[A\n",
      " 21%|██        | 184/886 [01:23<05:18,  2.20it/s]\u001b[A\n",
      " 21%|██        | 185/886 [01:23<05:22,  2.17it/s]\u001b[A\n",
      " 21%|██        | 186/886 [01:23<05:21,  2.18it/s]\u001b[A\n",
      " 21%|██        | 187/886 [01:24<05:19,  2.19it/s]\u001b[A\n",
      " 21%|██        | 188/886 [01:24<05:19,  2.18it/s]\u001b[A\n",
      " 21%|██▏       | 189/886 [01:25<05:23,  2.16it/s]\u001b[A\n",
      " 21%|██▏       | 190/886 [01:25<05:21,  2.17it/s]\u001b[A\n",
      " 22%|██▏       | 191/886 [01:26<05:23,  2.15it/s]\u001b[A\n",
      " 22%|██▏       | 192/886 [01:26<05:21,  2.16it/s]\u001b[A\n",
      " 22%|██▏       | 193/886 [01:27<05:20,  2.16it/s]\u001b[A\n",
      " 22%|██▏       | 194/886 [01:27<05:17,  2.18it/s]\u001b[A\n",
      " 22%|██▏       | 195/886 [01:28<05:13,  2.20it/s]\u001b[A\n",
      " 22%|██▏       | 196/886 [01:28<05:14,  2.20it/s]\u001b[A\n",
      " 22%|██▏       | 197/886 [01:29<05:14,  2.19it/s]\u001b[A\n",
      " 22%|██▏       | 198/886 [01:29<05:14,  2.19it/s]\u001b[A\n",
      " 22%|██▏       | 199/886 [01:29<05:16,  2.17it/s]\u001b[A\n",
      " 23%|██▎       | 200/886 [01:30<05:16,  2.17it/s]\u001b[A\n",
      " 23%|██▎       | 201/886 [01:30<05:13,  2.18it/s]\u001b[A\n",
      " 23%|██▎       | 202/886 [01:31<05:13,  2.18it/s]\u001b[A\n",
      " 23%|██▎       | 203/886 [01:31<05:13,  2.18it/s]\u001b[A\n",
      " 23%|██▎       | 204/886 [01:32<05:12,  2.18it/s]\u001b[A\n",
      " 23%|██▎       | 205/886 [01:32<05:12,  2.18it/s]\u001b[A\n",
      " 23%|██▎       | 206/886 [01:33<05:12,  2.18it/s]\u001b[A\n",
      " 23%|██▎       | 207/886 [01:33<05:14,  2.16it/s]\u001b[A\n",
      " 23%|██▎       | 208/886 [01:34<05:13,  2.16it/s]\u001b[A\n",
      " 24%|██▎       | 209/886 [01:34<05:12,  2.17it/s]\u001b[A\n",
      " 24%|██▎       | 210/886 [01:35<05:13,  2.16it/s]\u001b[A\n",
      " 24%|██▍       | 211/886 [01:35<05:15,  2.14it/s]\u001b[A\n",
      " 24%|██▍       | 212/886 [01:35<05:15,  2.14it/s]\u001b[A\n",
      " 24%|██▍       | 213/886 [01:36<05:12,  2.15it/s]\u001b[A\n",
      " 24%|██▍       | 214/886 [01:36<05:09,  2.17it/s]\u001b[A\n",
      " 24%|██▍       | 215/886 [01:37<05:06,  2.19it/s]\u001b[A\n",
      " 24%|██▍       | 216/886 [01:37<05:04,  2.20it/s]\u001b[A\n",
      " 24%|██▍       | 217/886 [01:38<05:02,  2.21it/s]\u001b[A\n",
      " 25%|██▍       | 218/886 [01:38<05:01,  2.22it/s]\u001b[A\n",
      " 25%|██▍       | 219/886 [01:39<05:05,  2.19it/s]\u001b[A\n",
      " 25%|██▍       | 220/886 [01:39<05:06,  2.18it/s]\u001b[A\n",
      " 25%|██▍       | 221/886 [01:40<05:05,  2.18it/s]\u001b[A\n",
      " 25%|██▌       | 222/886 [01:40<05:04,  2.18it/s]\u001b[A\n",
      " 25%|██▌       | 223/886 [01:40<05:04,  2.18it/s]\u001b[A\n",
      " 25%|██▌       | 224/886 [01:41<05:04,  2.17it/s]\u001b[A\n",
      " 25%|██▌       | 225/886 [01:41<05:04,  2.17it/s]\u001b[A\n",
      " 26%|██▌       | 226/886 [01:42<05:03,  2.17it/s]\u001b[A\n",
      " 26%|██▌       | 227/886 [01:42<05:02,  2.18it/s]\u001b[A\n",
      " 26%|██▌       | 228/886 [01:43<05:02,  2.17it/s]\u001b[A\n",
      " 26%|██▌       | 229/886 [01:43<05:00,  2.18it/s]\u001b[A\n",
      " 26%|██▌       | 230/886 [01:44<05:00,  2.18it/s]\u001b[A\n",
      " 26%|██▌       | 231/886 [01:44<05:02,  2.16it/s]"
     ]
    }
   ],
   "source": [
    "\n",
    "history = defaultdict(list)\n",
    "best_accuracy = 0\n",
    "\n",
    "for epoch in range(EPOCHS):\n",
    "\n",
    "  print(f'Epoch {epoch + 1}/{EPOCHS}')\n",
    "  print('-' * 10)\n",
    "\n",
    "  train_acc, train_loss = train_fn(\n",
    "    model,\n",
    "    train_data_loader,    \n",
    "    loss_fn, \n",
    "    optimizer, \n",
    "    device, \n",
    "    scheduler, \n",
    "    len(df_train)\n",
    "  )\n",
    "\n",
    "  print(f'Train loss {train_loss} accuracy {train_acc}')\n",
    "\n",
    "  val_acc, val_loss = eval_model(\n",
    "    model,\n",
    "    val_data_loader,\n",
    "    loss_fn, \n",
    "    device, \n",
    "    len(df_val)\n",
    "  )\n",
    "\n",
    "  print(f'Val   loss {val_loss} accuracy {val_acc}')\n",
    "  print()\n",
    "\n",
    "  history['train_acc'].append(train_acc)\n",
    "  history['train_loss'].append(train_loss)\n",
    "  history['val_acc'].append(val_acc)\n",
    "  history['val_loss'].append(val_loss)\n",
    "\n",
    "  if val_acc > best_accuracy:\n",
    "    torch.save(model.state_dict(), 'best_model_state.bin')\n",
    "    best_accuracy = val_acc"
   ]
  },
  {
   "cell_type": "code",
   "execution_count": null,
   "metadata": {},
   "outputs": [],
   "source": []
  }
 ]
}